{
 "cells": [
  {
   "cell_type": "code",
   "execution_count": 1,
   "metadata": {},
   "outputs": [],
   "source": [
    "import numpy as np\n",
    "from ultralytics import YOLO\n",
    "from pathlib import Path\n",
    "from matplotlib import pyplot as plt"
   ]
  },
  {
   "cell_type": "code",
   "execution_count": 2,
   "metadata": {},
   "outputs": [],
   "source": [
    "model = YOLO(\"runs/detect/train5/weights/best.pt\")"
   ]
  },
  {
   "cell_type": "code",
   "execution_count": 3,
   "metadata": {},
   "outputs": [
    {
     "name": "stdout",
     "output_type": "stream",
     "text": [
      "Ultralytics YOLOv8.2.0 🚀 Python-3.11.6 torch-2.1.0 CUDA:1 (Quadro RTX 6000, 24212MiB)\n",
      "YOLOv8l summary (fused): 268 layers, 43608345 parameters, 0 gradients\n"
     ]
    },
    {
     "name": "stderr",
     "output_type": "stream",
     "text": [
      "                 Class     Images  Instances      Box(P          R      mAP50  mAP50-95): 100%|██████████| 21/21 [00:33<00:00,  1.61s/it]\n"
     ]
    },
    {
     "name": "stdout",
     "output_type": "stream",
     "text": [
      "                   all       2562       4263      0.586      0.576      0.614      0.181\n",
      "            pedestrian       2562       4263      0.586      0.576      0.614      0.181\n",
      "Speed: 0.5ms preprocess, 7.2ms inference, 0.0ms loss, 1.2ms postprocess per image\n",
      "Results saved to \u001b[1m/home/maufri/repos/ultralytics/runs/detect/val10\u001b[0m\n"
     ]
    }
   ],
   "source": [
    "res = model.val(data=\"/home/maufri/repos/ultralytics/hslu_test_histo.yaml\",\n",
    "          batch=128,\n",
    "          device=1,\n",
    "          workers=8,\n",
    "          amp=True,\n",
    "          cache=False,\n",
    "          split=\"test\",\n",
    "          iou=0.3,\n",
    "          augment=False,\n",
    "          );"
   ]
  },
  {
   "cell_type": "code",
   "execution_count": 4,
   "metadata": {},
   "outputs": [
    {
     "name": "stdout",
     "output_type": "stream",
     "text": [
      "Ultralytics YOLOv8.2.0 🚀 Python-3.11.6 torch-2.1.0 CUDA:1 (Quadro RTX 6000, 24212MiB)\n"
     ]
    },
    {
     "name": "stderr",
     "output_type": "stream",
     "text": [
      "                 Class     Images  Instances      Box(P          R      mAP50  mAP50-95): 100%|██████████| 21/21 [00:59<00:00,  2.84s/it]\n"
     ]
    },
    {
     "name": "stdout",
     "output_type": "stream",
     "text": [
      "                   all       2562       4263      0.614      0.571      0.609      0.179\n",
      "            pedestrian       2562       4263      0.614      0.571      0.609      0.179\n",
      "Speed: 0.5ms preprocess, 17.6ms inference, 0.0ms loss, 0.6ms postprocess per image\n",
      "Results saved to \u001b[1m/home/maufri/repos/ultralytics/runs/detect/val11\u001b[0m\n"
     ]
    }
   ],
   "source": [
    "res = model.val(data=\"/home/maufri/repos/ultralytics/hslu_test_histo.yaml\",\n",
    "          batch=128,\n",
    "          device=1,\n",
    "          workers=8,\n",
    "          amp=True,\n",
    "          cache=False,\n",
    "          split=\"test\",\n",
    "          iou=0.3,\n",
    "          augment=True,\n",
    "          );"
   ]
  },
  {
   "cell_type": "code",
   "execution_count": 5,
   "metadata": {},
   "outputs": [
    {
     "name": "stdout",
     "output_type": "stream",
     "text": [
      "Ultralytics YOLOv8.2.0 🚀 Python-3.11.6 torch-2.1.0 CUDA:1 (Quadro RTX 6000, 24212MiB)\n"
     ]
    },
    {
     "name": "stderr",
     "output_type": "stream",
     "text": [
      "                 Class     Images  Instances      Box(P          R      mAP50  mAP50-95): 100%|██████████| 21/21 [00:33<00:00,  1.61s/it]\n"
     ]
    },
    {
     "name": "stdout",
     "output_type": "stream",
     "text": [
      "                   all       2562       4263      0.636      0.357      0.398      0.129\n",
      "            pedestrian       2562       4263      0.636      0.357      0.398      0.129\n",
      "Speed: 0.4ms preprocess, 7.1ms inference, 0.0ms loss, 0.6ms postprocess per image\n",
      "Results saved to \u001b[1m/home/maufri/repos/ultralytics/runs/detect/val12\u001b[0m\n"
     ]
    }
   ],
   "source": [
    "res = model.val(data=\"/home/maufri/repos/ultralytics/hslu_test_histo.yaml\",\n",
    "          batch=128,\n",
    "          device=1,\n",
    "          workers=8,\n",
    "          amp=True,\n",
    "          cache=False,\n",
    "          split=\"test\",\n",
    "          iou=0.3,\n",
    "          augment=False,\n",
    "          scale_center=True,\n",
    "          input_scale=0.4,\n",
    "          );"
   ]
  },
  {
   "cell_type": "code",
   "execution_count": 6,
   "metadata": {},
   "outputs": [
    {
     "name": "stdout",
     "output_type": "stream",
     "text": [
      "Ultralytics YOLOv8.2.0 🚀 Python-3.11.6 torch-2.1.0 CUDA:1 (Quadro RTX 6000, 24212MiB)\n"
     ]
    },
    {
     "name": "stderr",
     "output_type": "stream",
     "text": [
      "                 Class     Images  Instances      Box(P          R      mAP50  mAP50-95): 100%|██████████| 21/21 [00:31<00:00,  1.51s/it]\n"
     ]
    },
    {
     "name": "stdout",
     "output_type": "stream",
     "text": [
      "                   all       2562       4263      0.706      0.374      0.428      0.147\n",
      "            pedestrian       2562       4263      0.706      0.374      0.428      0.147\n",
      "Speed: 0.4ms preprocess, 7.1ms inference, 0.0ms loss, 0.5ms postprocess per image\n",
      "Results saved to \u001b[1m/home/maufri/repos/ultralytics/runs/detect/val13\u001b[0m\n"
     ]
    }
   ],
   "source": [
    "res = model.val(data=\"/home/maufri/repos/ultralytics/hslu_test_histo.yaml\",\n",
    "          batch=128,\n",
    "          device=1,\n",
    "          workers=8,\n",
    "          amp=True,\n",
    "          cache=False,\n",
    "          split=\"test\",\n",
    "          iou=0.3,\n",
    "          augment=False,\n",
    "          scale_center=False,\n",
    "          input_scale=0.4,\n",
    "          );"
   ]
  },
  {
   "cell_type": "code",
   "execution_count": null,
   "metadata": {},
   "outputs": [
    {
     "name": "stdout",
     "output_type": "stream",
     "text": [
      "Ultralytics YOLOv8.2.0 🚀 Python-3.11.6 torch-2.1.0 CUDA:1 (Quadro RTX 6000, 24212MiB)\n",
      "YOLOv8l summary (fused): 268 layers, 43608345 parameters, 0 gradients\n"
     ]
    },
    {
     "name": "stderr",
     "output_type": "stream",
     "text": [
      "                 Class     Images  Instances      Box(P          R      mAP50  mAP50-95): 100%|██████████| 580/580 [12:35<00:00,  1.30s/it]\n"
     ]
    },
    {
     "name": "stdout",
     "output_type": "stream",
     "text": [
      "                   all      74145     269996       0.43      0.255       0.26      0.136\n",
      "            pedestrian      74145     109081      0.461      0.168      0.178     0.0745\n",
      "               vehicle      74145     155481      0.793      0.465      0.573      0.321\n",
      "         micromobility      74145       5434     0.0375      0.133     0.0291     0.0137\n",
      "Speed: 0.2ms preprocess, 7.2ms inference, 0.0ms loss, 0.5ms postprocess per image\n",
      "Results saved to \u001b[1m/home/maufri/repos/ultralytics/runs/detect/val7\u001b[0m\n"
     ]
    }
   ],
   "source": [
    "# model.val(data=\"/home/maufri/repos/ultralytics/hslu_test_histo.yaml\",\n",
    "model.val(data=\"/home/maufri/repos/ultralytics/etram_histo.yaml\",\n",
    "          batch=128,\n",
    "          device=1,\n",
    "          workers=8,\n",
    "          amp=True,\n",
    "          cache=False,\n",
    "          split=\"test\");"
   ]
  },
  {
   "cell_type": "code",
   "execution_count": 19,
   "metadata": {},
   "outputs": [],
   "source": [
    "# file_path = Path(\"/media/datastore/maufri/mse-vm2/etram/static/ml/histo_50/val\")\n",
    "file_path = Path(\"/media/datastore/maufri/mse-vm2/prophesee/outdoor_240/histo_50/test\")\n",
    "files = sorted(list(file_path.glob(\"*.h5\")))\n",
    "file_idx = 1\n",
    "\n",
    "model = YOLO(\"runs/detect/train5/weights/best.pt\")\n",
    "res_iter = model.predict(files[file_idx], workers=0, batch=128, stream=True, vid_stride=10, iou=0.3, device=1, scale_center=True, input_scale=0.3)\n"
   ]
  },
  {
   "cell_type": "code",
   "execution_count": 4,
   "metadata": {},
   "outputs": [
    {
     "name": "stdout",
     "output_type": "stream",
     "text": [
      "\n",
      "video 1/1 (frame 1/12) /media/datastore/maufri/mse-vm2/prophesee/outdoor_240/histo_50/test/recording_2024-04-26_14-19-12.h5: 384x640 (no detections), 9.0ms\n",
      "video 1/1 (frame 2/12) /media/datastore/maufri/mse-vm2/prophesee/outdoor_240/histo_50/test/recording_2024-04-26_14-19-12.h5: 384x640 (no detections), 9.0ms\n",
      "video 1/1 (frame 3/12) /media/datastore/maufri/mse-vm2/prophesee/outdoor_240/histo_50/test/recording_2024-04-26_14-19-12.h5: 384x640 1 pedestrian, 9.0ms\n",
      "video 1/1 (frame 4/12) /media/datastore/maufri/mse-vm2/prophesee/outdoor_240/histo_50/test/recording_2024-04-26_14-19-12.h5: 384x640 2 pedestrians, 9.0ms\n",
      "video 1/1 (frame 5/12) /media/datastore/maufri/mse-vm2/prophesee/outdoor_240/histo_50/test/recording_2024-04-26_14-19-12.h5: 384x640 2 pedestrians, 9.0ms\n",
      "video 1/1 (frame 6/12) /media/datastore/maufri/mse-vm2/prophesee/outdoor_240/histo_50/test/recording_2024-04-26_14-19-12.h5: 384x640 1 pedestrian, 9.0ms\n",
      "video 1/1 (frame 7/12) /media/datastore/maufri/mse-vm2/prophesee/outdoor_240/histo_50/test/recording_2024-04-26_14-19-12.h5: 384x640 1 pedestrian, 1 micromobility, 9.0ms\n",
      "video 1/1 (frame 8/12) /media/datastore/maufri/mse-vm2/prophesee/outdoor_240/histo_50/test/recording_2024-04-26_14-19-12.h5: 384x640 2 pedestrians, 9.0ms\n",
      "video 1/1 (frame 9/12) /media/datastore/maufri/mse-vm2/prophesee/outdoor_240/histo_50/test/recording_2024-04-26_14-19-12.h5: 384x640 1 pedestrian, 9.0ms\n",
      "video 1/1 (frame 10/12) /media/datastore/maufri/mse-vm2/prophesee/outdoor_240/histo_50/test/recording_2024-04-26_14-19-12.h5: 384x640 1 pedestrian, 9.0ms\n",
      "video 1/1 (frame 11/12) /media/datastore/maufri/mse-vm2/prophesee/outdoor_240/histo_50/test/recording_2024-04-26_14-19-12.h5: 384x640 1 pedestrian, 9.0ms\n",
      "video 1/1 (frame 12/12) /media/datastore/maufri/mse-vm2/prophesee/outdoor_240/histo_50/test/recording_2024-04-26_14-19-12.h5: 384x640 (no detections), 9.0ms\n"
     ]
    }
   ],
   "source": [
    "for _ in range(10):\n",
    "    res = next(res_iter)"
   ]
  },
  {
   "cell_type": "code",
   "execution_count": 30,
   "metadata": {},
   "outputs": [
    {
     "data": {
      "text/plain": [
       "<matplotlib.image.AxesImage at 0x7f2082022dd0>"
      ]
     },
     "execution_count": 30,
     "metadata": {},
     "output_type": "execute_result"
    },
    {
     "data": {
      "image/png": "[encoded data removed]",
      "text/plain": [
       "<Figure size 640x480 with 1 Axes>"
      ]
     },
     "metadata": {},
     "output_type": "display_data"
    }
   ],
   "source": [
    "res = next(res_iter)\n",
    "img = res.plot()\n",
    "plt.imshow(img[:720,:1280])"
   ]
  },
  {
   "cell_type": "code",
   "execution_count": 6,
   "metadata": {},
   "outputs": [
    {
     "data": {
      "text/plain": [
       "'recording_2024-04-26_14-25-14.h5'"
      ]
     },
     "execution_count": 6,
     "metadata": {},
     "output_type": "execute_result"
    }
   ],
   "source": [
    "from pathlib import Path\n",
    "from matplotlib import pyplot as plt\n",
    "import ipywidgets as iwp\n",
    "import numpy as np\n",
    "import cv2 as cv\n",
    "import h5py\n",
    "\n",
    "BG_COLOR = np.array([52, 37, 30], dtype=np.uint8)\n",
    "ON_COLOR = np.array([236, 223, 216], dtype=np.uint8)\n",
    "OFF_COLOR = np.array([201, 126, 64], dtype=np.uint8)\n",
    "\n",
    "def get_visual(ev_frame):\n",
    "        img_out = np.ones((*ev_frame.shape[1:], 3)) * BG_COLOR\n",
    "        img_out[ev_frame[0] > 0] = ON_COLOR\n",
    "        img_out[ev_frame[1] > 0] = OFF_COLOR\n",
    "\n",
    "        return img_out.astype(np.uint8)\n",
    "\n",
    "# file_path = Path(\"/media/datastore/maufri/mse-vm2/etram/static/ml/histo_50/val\")\n",
    "file_path = Path(\"/media/datastore/maufri/mse-vm2/prophesee/outdoor_240/histo_50/test\")\n",
    "files = sorted(list(file_path.glob(\"*.h5\")))\n",
    "file_idx = 5\n",
    "files[file_idx].name"
   ]
  },
  {
   "cell_type": "code",
   "execution_count": 38,
   "metadata": {},
   "outputs": [
    {
     "data": {
      "application/vnd.jupyter.widget-view+json": {
       "model_id": "33b15646355c4ecf867d863b089defa6",
       "version_major": 2,
       "version_minor": 0
      },
      "text/plain": [
       "interactive(children=(IntSlider(value=40, description='frame', max=256), Output()), _dom_classes=('widget-inte…"
      ]
     },
     "metadata": {},
     "output_type": "display_data"
    }
   ],
   "source": [
    "h5f = h5py.File(files[file_idx], \"r\")\n",
    "ev_data = h5f[\"data\"]\n",
    "\n",
    "@iwp.interact(frame=iwp.IntSlider(min=0, max=ev_data.shape[0]-1, step=1, value=40))\n",
    "def show_frame(frame):\n",
    "    im_disp = get_visual(ev_data[frame])\n",
    "    cv.imwrite(f\"./frames/{files[file_idx].stem}_frame_{frame:04d}.png\", im_disp)\n",
    "    plt.imshow(cv.cvtColor(im_disp, cv.COLOR_BGR2RGB))\n",
    "    plt.show()"
   ]
  },
  {
   "cell_type": "code",
   "execution_count": null,
   "metadata": {},
   "outputs": [],
   "source": []
  }
 ],
 "metadata": {
  "kernelspec": {
   "display_name": "pt-gpu",
   "language": "python",
   "name": "python3"
  },
  "language_info": {
   "codemirror_mode": {
    "name": "ipython",
    "version": 3
   },
   "file_extension": ".py",
   "mimetype": "text/x-python",
   "name": "python",
   "nbconvert_exporter": "python",
   "pygments_lexer": "ipython3",
   "version": "3.11.6"
  }
 },
 "nbformat": 4,
 "nbformat_minor": 2
}
