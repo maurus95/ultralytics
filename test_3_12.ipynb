{
 "cells": [
  {
   "cell_type": "code",
   "execution_count": 1,
   "metadata": {},
   "outputs": [],
   "source": [
    "from ultralytics import YOLO"
   ]
  },
  {
   "cell_type": "markdown",
   "metadata": {},
   "source": [
    "## Test Model Performance"
   ]
  },
  {
   "cell_type": "markdown",
   "metadata": {},
   "source": [
    "### Train3"
   ]
  },
  {
   "cell_type": "code",
   "execution_count": 5,
   "metadata": {},
   "outputs": [],
   "source": [
    "model = YOLO(\"runs/detect/train3/weights/best.pt\")"
   ]
  },
  {
   "cell_type": "code",
   "execution_count": 3,
   "metadata": {},
   "outputs": [
    {
     "name": "stdout",
     "output_type": "stream",
     "text": [
      "Ultralytics YOLOv8.2.0 🚀 Python-3.11.6 torch-2.1.0 CUDA:1 (Quadro RTX 6000, 24212MiB)\n",
      "YOLOv8l summary (fused): 268 layers, 43608345 parameters, 0 gradients\n"
     ]
    },
    {
     "name": "stderr",
     "output_type": "stream",
     "text": [
      "                 Class     Images  Instances      Box(P          R      mAP50  mAP50-95): 100%|██████████| 580/580 [12:31<00:00,  1.30s/it]\n"
     ]
    },
    {
     "name": "stdout",
     "output_type": "stream",
     "text": [
      "                   all      74145     269996      0.431      0.259      0.265      0.139\n",
      "            pedestrian      74145     109081      0.446      0.167      0.182     0.0767\n",
      "               vehicle      74145     155481      0.814      0.466      0.588      0.331\n",
      "         micromobility      74145       5434     0.0335      0.143     0.0251      0.011\n",
      "Speed: 0.2ms preprocess, 7.2ms inference, 0.0ms loss, 0.6ms postprocess per image\n",
      "Results saved to \u001b[1m/home/maufri/repos/ultralytics/runs/detect/val4\u001b[0m\n"
     ]
    }
   ],
   "source": [
    "# model.val(data=\"/home/maufri/repos/ultralytics/hslu_test_histo.yaml\",\n",
    "model.val(data=\"/home/maufri/repos/ultralytics/etram_histo.yaml\",\n",
    "          batch=128,\n",
    "          device=1,\n",
    "          workers=8,\n",
    "          amp=True,\n",
    "          cache=False,\n",
    "          split=\"test\");"
   ]
  },
  {
   "cell_type": "code",
   "execution_count": 3,
   "metadata": {},
   "outputs": [
    {
     "name": "stdout",
     "output_type": "stream",
     "text": [
      "Ultralytics YOLOv8.2.0 🚀 Python-3.11.6 torch-2.1.0 CUDA:1 (Quadro RTX 6000, 24212MiB)\n",
      "YOLOv8l summary (fused): 268 layers, 43608345 parameters, 0 gradients\n"
     ]
    },
    {
     "name": "stderr",
     "output_type": "stream",
     "text": [
      "                 Class     Images  Instances      Box(P          R      mAP50  mAP50-95): 100%|██████████| 21/21 [00:33<00:00,  1.60s/it]\n"
     ]
    },
    {
     "name": "stdout",
     "output_type": "stream",
     "text": [
      "                   all       2562       4263      0.515      0.486      0.516      0.157\n",
      "            pedestrian       2562       4263      0.515      0.486      0.516      0.157\n",
      "Speed: 0.5ms preprocess, 7.1ms inference, 0.0ms loss, 1.2ms postprocess per image\n",
      "Results saved to \u001b[1m/home/maufri/repos/ultralytics/runs/detect/val5\u001b[0m\n"
     ]
    }
   ],
   "source": [
    "res = model.val(data=\"/home/maufri/repos/ultralytics/hslu_test_histo.yaml\",\n",
    "          batch=128,\n",
    "          device=1,\n",
    "          workers=8,\n",
    "          amp=True,\n",
    "          cache=False,\n",
    "          split=\"test\",\n",
    "          iou=0.5,\n",
    "          augment=False,\n",
    "          );"
   ]
  },
  {
   "cell_type": "code",
   "execution_count": 4,
   "metadata": {},
   "outputs": [
    {
     "name": "stdout",
     "output_type": "stream",
     "text": [
      "Ultralytics YOLOv8.2.0 🚀 Python-3.11.6 torch-2.1.0 CUDA:1 (Quadro RTX 6000, 24212MiB)\n"
     ]
    },
    {
     "name": "stderr",
     "output_type": "stream",
     "text": [
      "                 Class     Images  Instances      Box(P          R      mAP50  mAP50-95): 100%|██████████| 21/21 [00:37<00:00,  1.80s/it]\n"
     ]
    },
    {
     "name": "stdout",
     "output_type": "stream",
     "text": [
      "                   all       2562       4263      0.619      0.344      0.374      0.119\n",
      "            pedestrian       2562       4263      0.619      0.344      0.374      0.119\n",
      "Speed: 0.6ms preprocess, 7.0ms inference, 0.0ms loss, 1.0ms postprocess per image\n",
      "Results saved to \u001b[1m/home/maufri/repos/ultralytics/runs/detect/val6\u001b[0m\n"
     ]
    }
   ],
   "source": [
    "res = model.val(data=\"/home/maufri/repos/ultralytics/hslu_test_histo.yaml\",\n",
    "          batch=128,\n",
    "          device=1,\n",
    "          workers=8,\n",
    "          amp=True,\n",
    "          cache=False,\n",
    "          split=\"test\",\n",
    "          iou=0.5,\n",
    "          augment=False,\n",
    "          scale_center=True,\n",
    "          input_scale=0.4,\n",
    "          );"
   ]
  },
  {
   "cell_type": "code",
   "execution_count": 3,
   "metadata": {},
   "outputs": [
    {
     "name": "stdout",
     "output_type": "stream",
     "text": [
      "Ultralytics YOLOv8.2.0 🚀 Python-3.11.6 torch-2.1.0 CUDA:1 (Quadro RTX 6000, 24212MiB)\n",
      "YOLOv8l summary (fused): 268 layers, 43608345 parameters, 0 gradients\n"
     ]
    },
    {
     "name": "stderr",
     "output_type": "stream",
     "text": [
      "                 Class     Images  Instances      Box(P          R      mAP50  mAP50-95): 100%|██████████| 21/21 [00:35<00:00,  1.69s/it]\n"
     ]
    },
    {
     "name": "stdout",
     "output_type": "stream",
     "text": [
      "                   all       2562       4263      0.687      0.364      0.434      0.145\n",
      "            pedestrian       2562       4263      0.687      0.364      0.434      0.145\n",
      "Speed: 0.5ms preprocess, 7.1ms inference, 0.0ms loss, 1.3ms postprocess per image\n",
      "Results saved to \u001b[1m/home/maufri/repos/ultralytics/runs/detect/val7\u001b[0m\n"
     ]
    }
   ],
   "source": [
    "res = model.val(data=\"/home/maufri/repos/ultralytics/hslu_test_histo.yaml\",\n",
    "          batch=128,\n",
    "          device=1,\n",
    "          workers=8,\n",
    "          amp=True,\n",
    "          cache=False,\n",
    "          split=\"test\",\n",
    "          iou=0.5,\n",
    "          augment=False,\n",
    "          scale_center=True,\n",
    "          input_scale=0.3,\n",
    "          );"
   ]
  },
  {
   "cell_type": "code",
   "execution_count": 4,
   "metadata": {},
   "outputs": [
    {
     "name": "stdout",
     "output_type": "stream",
     "text": [
      "Ultralytics YOLOv8.2.0 🚀 Python-3.11.6 torch-2.1.0 CUDA:1 (Quadro RTX 6000, 24212MiB)\n"
     ]
    },
    {
     "name": "stderr",
     "output_type": "stream",
     "text": [
      "                 Class     Images  Instances      Box(P          R      mAP50  mAP50-95): 100%|██████████| 21/21 [00:38<00:00,  1.81s/it]\n"
     ]
    },
    {
     "name": "stdout",
     "output_type": "stream",
     "text": [
      "                   all       2562       4263      0.802       0.42      0.524      0.186\n",
      "            pedestrian       2562       4263      0.802       0.42      0.524      0.186\n",
      "Speed: 0.4ms preprocess, 7.1ms inference, 0.0ms loss, 1.0ms postprocess per image\n",
      "Results saved to \u001b[1m/home/maufri/repos/ultralytics/runs/detect/val8\u001b[0m\n"
     ]
    }
   ],
   "source": [
    "res = model.val(data=\"/home/maufri/repos/ultralytics/hslu_test_histo.yaml\",\n",
    "          batch=128,\n",
    "          device=1,\n",
    "          workers=8,\n",
    "          amp=True,\n",
    "          cache=False,\n",
    "          split=\"test\",\n",
    "          iou=0.5,\n",
    "          augment=False,\n",
    "          scale_center=False,\n",
    "          input_scale=0.3,\n",
    "          scale_pos=\"tl\"\n",
    "          );"
   ]
  },
  {
   "cell_type": "code",
   "execution_count": 5,
   "metadata": {},
   "outputs": [
    {
     "name": "stdout",
     "output_type": "stream",
     "text": [
      "Ultralytics YOLOv8.2.0 🚀 Python-3.11.6 torch-2.1.0 CUDA:1 (Quadro RTX 6000, 24212MiB)\n"
     ]
    },
    {
     "name": "stderr",
     "output_type": "stream",
     "text": [
      "                 Class     Images  Instances      Box(P          R      mAP50  mAP50-95): 100%|██████████| 21/21 [00:33<00:00,  1.60s/it]\n"
     ]
    },
    {
     "name": "stdout",
     "output_type": "stream",
     "text": [
      "                   all       2562       4263      0.793      0.428      0.527      0.189\n",
      "            pedestrian       2562       4263      0.793      0.428      0.527      0.189\n",
      "Speed: 0.4ms preprocess, 7.1ms inference, 0.0ms loss, 0.6ms postprocess per image\n",
      "Results saved to \u001b[1m/home/maufri/repos/ultralytics/runs/detect/val9\u001b[0m\n"
     ]
    }
   ],
   "source": [
    "res = model.val(data=\"/home/maufri/repos/ultralytics/hslu_test_histo.yaml\",\n",
    "          batch=128,\n",
    "          device=1,\n",
    "          workers=8,\n",
    "          amp=True,\n",
    "          cache=False,\n",
    "          split=\"test\",\n",
    "          iou=0.5,\n",
    "          augment=False,\n",
    "          scale_center=False,\n",
    "          input_scale=0.3,\n",
    "          scale_pos=\"tr\"\n",
    "          );"
   ]
  },
  {
   "cell_type": "code",
   "execution_count": 6,
   "metadata": {},
   "outputs": [
    {
     "name": "stdout",
     "output_type": "stream",
     "text": [
      "Ultralytics YOLOv8.2.0 🚀 Python-3.11.6 torch-2.1.0 CUDA:1 (Quadro RTX 6000, 24212MiB)\n"
     ]
    },
    {
     "name": "stderr",
     "output_type": "stream",
     "text": [
      "                 Class     Images  Instances      Box(P          R      mAP50  mAP50-95): 100%|██████████| 21/21 [00:39<00:00,  1.90s/it]\n"
     ]
    },
    {
     "name": "stdout",
     "output_type": "stream",
     "text": [
      "                   all       2562       4263      0.811      0.418      0.508      0.151\n",
      "            pedestrian       2562       4263      0.811      0.418      0.508      0.151\n",
      "Speed: 0.5ms preprocess, 7.0ms inference, 0.0ms loss, 1.0ms postprocess per image\n",
      "Results saved to \u001b[1m/home/maufri/repos/ultralytics/runs/detect/val10\u001b[0m\n"
     ]
    }
   ],
   "source": [
    "res = model.val(data=\"/home/maufri/repos/ultralytics/hslu_test_histo.yaml\",\n",
    "          batch=128,\n",
    "          device=1,\n",
    "          workers=8,\n",
    "          amp=True,\n",
    "          cache=False,\n",
    "          split=\"test\",\n",
    "          iou=0.5,\n",
    "          augment=False,\n",
    "          scale_center=False,\n",
    "          input_scale=0.3,\n",
    "          scale_pos=\"bl\"\n",
    "          );"
   ]
  },
  {
   "cell_type": "code",
   "execution_count": 7,
   "metadata": {},
   "outputs": [
    {
     "name": "stdout",
     "output_type": "stream",
     "text": [
      "Ultralytics YOLOv8.2.0 🚀 Python-3.11.6 torch-2.1.0 CUDA:1 (Quadro RTX 6000, 24212MiB)\n"
     ]
    },
    {
     "name": "stderr",
     "output_type": "stream",
     "text": [
      "                 Class     Images  Instances      Box(P          R      mAP50  mAP50-95): 100%|██████████| 21/21 [00:36<00:00,  1.74s/it]\n"
     ]
    },
    {
     "name": "stdout",
     "output_type": "stream",
     "text": [
      "                   all       2562       4263      0.793      0.431      0.518      0.156\n",
      "            pedestrian       2562       4263      0.793      0.431      0.518      0.156\n",
      "Speed: 0.5ms preprocess, 7.1ms inference, 0.0ms loss, 0.9ms postprocess per image\n",
      "Results saved to \u001b[1m/home/maufri/repos/ultralytics/runs/detect/val11\u001b[0m\n"
     ]
    }
   ],
   "source": [
    "res = model.val(data=\"/home/maufri/repos/ultralytics/hslu_test_histo.yaml\",\n",
    "          batch=128,\n",
    "          device=1,\n",
    "          workers=8,\n",
    "          amp=True,\n",
    "          cache=False,\n",
    "          split=\"test\",\n",
    "          iou=0.5,\n",
    "          augment=False,\n",
    "          scale_center=False,\n",
    "          input_scale=0.3,\n",
    "          scale_pos=\"br\"\n",
    "          );"
   ]
  },
  {
   "cell_type": "markdown",
   "metadata": {},
   "source": [
    "#### Near/Far"
   ]
  },
  {
   "cell_type": "code",
   "execution_count": 6,
   "metadata": {},
   "outputs": [
    {
     "name": "stdout",
     "output_type": "stream",
     "text": [
      "Ultralytics YOLOv8.2.0 🚀 Python-3.11.6 torch-2.1.0 CUDA:1 (Quadro RTX 6000, 24212MiB)\n",
      "YOLOv8l summary (fused): 268 layers, 43608345 parameters, 0 gradients\n"
     ]
    },
    {
     "name": "stderr",
     "output_type": "stream",
     "text": [
      "                 Class     Images  Instances      Box(P          R      mAP50  mAP50-95): 100%|██████████| 12/12 [00:21<00:00,  1.83s/it]\n"
     ]
    },
    {
     "name": "stdout",
     "output_type": "stream",
     "text": [
      "                   all       1425       2121      0.797      0.568      0.644      0.216\n",
      "            pedestrian       1425       2121      0.797      0.568      0.644      0.216\n",
      "Speed: 0.6ms preprocess, 7.1ms inference, 0.0ms loss, 0.7ms postprocess per image\n",
      "Results saved to \u001b[1m/home/maufri/repos/ultralytics/runs/detect/val28\u001b[0m\n"
     ]
    }
   ],
   "source": [
    "res = model.val(data=\"/home/maufri/repos/ultralytics/hslu_test_histo_near.yaml\",\n",
    "          batch=128,\n",
    "          device=1,\n",
    "          workers=8,\n",
    "          amp=True,\n",
    "          cache=False,\n",
    "          split=\"test\",\n",
    "          iou=0.5,\n",
    "          augment=False,\n",
    "          scale_center=True,\n",
    "          input_scale=0.3,\n",
    "          );"
   ]
  },
  {
   "cell_type": "code",
   "execution_count": 7,
   "metadata": {},
   "outputs": [
    {
     "name": "stdout",
     "output_type": "stream",
     "text": [
      "Ultralytics YOLOv8.2.0 🚀 Python-3.11.6 torch-2.1.0 CUDA:1 (Quadro RTX 6000, 24212MiB)\n"
     ]
    },
    {
     "name": "stderr",
     "output_type": "stream",
     "text": [
      "                 Class     Images  Instances      Box(P          R      mAP50  mAP50-95): 100%|██████████| 9/9 [00:19<00:00,  2.16s/it]\n"
     ]
    },
    {
     "name": "stdout",
     "output_type": "stream",
     "text": [
      "                   all       1137       2142      0.496      0.449      0.446      0.127\n",
      "            pedestrian       1137       2142      0.496      0.449      0.446      0.127\n",
      "Speed: 0.8ms preprocess, 7.1ms inference, 0.0ms loss, 0.5ms postprocess per image\n",
      "Results saved to \u001b[1m/home/maufri/repos/ultralytics/runs/detect/val29\u001b[0m\n"
     ]
    }
   ],
   "source": [
    "res = model.val(data=\"/home/maufri/repos/ultralytics/hslu_test_histo_far.yaml\",\n",
    "          batch=128,\n",
    "          device=1,\n",
    "          workers=8,\n",
    "          amp=True,\n",
    "          cache=False,\n",
    "          split=\"test\",\n",
    "          iou=0.5,\n",
    "          augment=False,\n",
    "          scale_center=True,\n",
    "          input_scale=1.0,\n",
    "          );"
   ]
  },
  {
   "cell_type": "markdown",
   "metadata": {},
   "source": [
    "### Train12"
   ]
  },
  {
   "cell_type": "code",
   "execution_count": null,
   "metadata": {},
   "outputs": [],
   "source": [
    "model = YOLO(\"runs/detect/train12/weights/best.pt\")"
   ]
  },
  {
   "cell_type": "code",
   "execution_count": 7,
   "metadata": {},
   "outputs": [
    {
     "name": "stdout",
     "output_type": "stream",
     "text": [
      "Ultralytics YOLOv8.2.0 🚀 Python-3.11.6 torch-2.1.0 CUDA:1 (Quadro RTX 6000, 24212MiB)\n",
      "YOLOv8l summary (fused): 268 layers, 43608345 parameters, 0 gradients\n"
     ]
    },
    {
     "name": "stderr",
     "output_type": "stream",
     "text": [
      "                 Class     Images  Instances      Box(P          R      mAP50  mAP50-95): 100%|██████████| 869/869 [18:00<00:00,  1.24s/it]\n"
     ]
    },
    {
     "name": "stdout",
     "output_type": "stream",
     "text": [
      "                   all     111159     404238      0.508      0.144       0.24      0.122\n",
      "            pedestrian     111159     163469      0.712      0.029      0.207     0.0913\n",
      "               vehicle     111159     232633       0.74      0.346      0.488      0.264\n",
      "         micromobility     111159       8136     0.0708     0.0581     0.0267    0.00972\n",
      "Speed: 0.2ms preprocess, 7.2ms inference, 0.0ms loss, 0.4ms postprocess per image\n",
      "Results saved to \u001b[1m/home/maufri/repos/ultralytics/runs/detect/val3\u001b[0m\n"
     ]
    }
   ],
   "source": [
    "# model.val(data=\"/home/maufri/repos/ultralytics/hslu_test_histo.yaml\",\n",
    "model.val(data=\"/home/maufri/repos/ultralytics/etram_ts.yaml\",\n",
    "          batch=128,\n",
    "          device=1,\n",
    "          workers=8,\n",
    "          amp=True,\n",
    "          cache=False,\n",
    "          split=\"test\");"
   ]
  },
  {
   "cell_type": "code",
   "execution_count": null,
   "metadata": {},
   "outputs": [
    {
     "name": "stdout",
     "output_type": "stream",
     "text": [
      "Ultralytics YOLOv8.2.0 🚀 Python-3.11.6 torch-2.1.0 CUDA:1 (Quadro RTX 6000, 24212MiB)\n",
      "YOLOv8l summary (fused): 268 layers, 43608345 parameters, 0 gradients\n"
     ]
    },
    {
     "name": "stderr",
     "output_type": "stream",
     "text": [
      "                 Class     Images  Instances      Box(P          R      mAP50  mAP50-95): 100%|██████████| 20/20 [00:32<00:00,  1.63s/it]\n"
     ]
    },
    {
     "name": "stdout",
     "output_type": "stream",
     "text": [
      "                   all       2559       4260       0.19      0.062      0.108     0.0302\n",
      "            pedestrian       2559       4260       0.19      0.062      0.108     0.0302\n",
      "Speed: 0.5ms preprocess, 7.0ms inference, 0.0ms loss, 0.6ms postprocess per image\n",
      "Results saved to \u001b[1m/home/maufri/repos/ultralytics/runs/detect/val20\u001b[0m\n"
     ]
    }
   ],
   "source": [
    "res = model.val(data=\"/home/maufri/repos/ultralytics/hslu_test_ts.yaml\",\n",
    "          batch=128,\n",
    "          device=1,\n",
    "          workers=8,\n",
    "          amp=True,\n",
    "          cache=False,\n",
    "          split=\"test\",\n",
    "          iou=0.5,\n",
    "          augment=False,\n",
    "          );"
   ]
  },
  {
   "cell_type": "code",
   "execution_count": null,
   "metadata": {},
   "outputs": [
    {
     "name": "stdout",
     "output_type": "stream",
     "text": [
      "Ultralytics YOLOv8.2.0 🚀 Python-3.11.6 torch-2.1.0 CUDA:1 (Quadro RTX 6000, 24212MiB)\n"
     ]
    },
    {
     "name": "stderr",
     "output_type": "stream",
     "text": [
      "                 Class     Images  Instances      Box(P          R      mAP50  mAP50-95): 100%|██████████| 20/20 [00:30<00:00,  1.54s/it]\n"
     ]
    },
    {
     "name": "stdout",
     "output_type": "stream",
     "text": [
      "                   all       2559       4260      0.284     0.0573      0.163      0.039\n",
      "            pedestrian       2559       4260      0.284     0.0573      0.163      0.039\n",
      "Speed: 0.5ms preprocess, 7.1ms inference, 0.0ms loss, 0.4ms postprocess per image\n",
      "Results saved to \u001b[1m/home/maufri/repos/ultralytics/runs/detect/val21\u001b[0m\n"
     ]
    }
   ],
   "source": [
    "res = model.val(data=\"/home/maufri/repos/ultralytics/hslu_test_ts.yaml\",\n",
    "          batch=128,\n",
    "          device=1,\n",
    "          workers=8,\n",
    "          amp=True,\n",
    "          cache=False,\n",
    "          split=\"test\",\n",
    "          iou=0.5,\n",
    "          augment=False,\n",
    "          scale_center=True,\n",
    "          input_scale=0.4,\n",
    "          );"
   ]
  },
  {
   "cell_type": "code",
   "execution_count": null,
   "metadata": {},
   "outputs": [
    {
     "name": "stdout",
     "output_type": "stream",
     "text": [
      "Ultralytics YOLOv8.2.0 🚀 Python-3.11.6 torch-2.1.0 CUDA:1 (Quadro RTX 6000, 24212MiB)\n"
     ]
    },
    {
     "name": "stderr",
     "output_type": "stream",
     "text": [
      "                 Class     Images  Instances      Box(P          R      mAP50  mAP50-95): 100%|██████████| 20/20 [00:29<00:00,  1.48s/it]\n"
     ]
    },
    {
     "name": "stdout",
     "output_type": "stream",
     "text": [
      "                   all       2559       4260      0.262     0.0758      0.169     0.0412\n",
      "            pedestrian       2559       4260      0.262     0.0758      0.169     0.0412\n",
      "Speed: 0.3ms preprocess, 7.0ms inference, 0.0ms loss, 0.4ms postprocess per image\n",
      "Results saved to \u001b[1m/home/maufri/repos/ultralytics/runs/detect/val22\u001b[0m\n"
     ]
    }
   ],
   "source": [
    "res = model.val(data=\"/home/maufri/repos/ultralytics/hslu_test_ts.yaml\",\n",
    "          batch=128,\n",
    "          device=1,\n",
    "          workers=8,\n",
    "          amp=True,\n",
    "          cache=False,\n",
    "          split=\"test\",\n",
    "          iou=0.5,\n",
    "          augment=False,\n",
    "          scale_center=True,\n",
    "          input_scale=0.3,\n",
    "          );"
   ]
  },
  {
   "cell_type": "code",
   "execution_count": null,
   "metadata": {},
   "outputs": [
    {
     "name": "stdout",
     "output_type": "stream",
     "text": [
      "Ultralytics YOLOv8.2.0 🚀 Python-3.11.6 torch-2.1.0 CUDA:1 (Quadro RTX 6000, 24212MiB)\n"
     ]
    },
    {
     "name": "stderr",
     "output_type": "stream",
     "text": [
      "                 Class     Images  Instances      Box(P          R      mAP50  mAP50-95): 100%|██████████| 20/20 [00:29<00:00,  1.47s/it]\n"
     ]
    },
    {
     "name": "stdout",
     "output_type": "stream",
     "text": [
      "                   all       2559       4260      0.716     0.0354      0.376      0.127\n",
      "            pedestrian       2559       4260      0.716     0.0354      0.376      0.127\n",
      "Speed: 0.5ms preprocess, 7.1ms inference, 0.0ms loss, 0.3ms postprocess per image\n",
      "Results saved to \u001b[1m/home/maufri/repos/ultralytics/runs/detect/val23\u001b[0m\n"
     ]
    }
   ],
   "source": [
    "res = model.val(data=\"/home/maufri/repos/ultralytics/hslu_test_ts.yaml\",\n",
    "          batch=128,\n",
    "          device=1,\n",
    "          workers=8,\n",
    "          amp=True,\n",
    "          cache=False,\n",
    "          split=\"test\",\n",
    "          iou=0.5,\n",
    "          augment=False,\n",
    "          scale_center=False,\n",
    "          input_scale=0.3,\n",
    "          scale_pos=\"tl\"\n",
    "          );"
   ]
  },
  {
   "cell_type": "code",
   "execution_count": null,
   "metadata": {},
   "outputs": [
    {
     "name": "stdout",
     "output_type": "stream",
     "text": [
      "Ultralytics YOLOv8.2.0 🚀 Python-3.11.6 torch-2.1.0 CUDA:1 (Quadro RTX 6000, 24212MiB)\n"
     ]
    },
    {
     "name": "stderr",
     "output_type": "stream",
     "text": [
      "                 Class     Images  Instances      Box(P          R      mAP50  mAP50-95): 100%|██████████| 20/20 [00:29<00:00,  1.49s/it]\n"
     ]
    },
    {
     "name": "stdout",
     "output_type": "stream",
     "text": [
      "                   all       2559       4260      0.374     0.0606      0.211     0.0667\n",
      "            pedestrian       2559       4260      0.374     0.0606      0.211     0.0667\n",
      "Speed: 0.5ms preprocess, 7.0ms inference, 0.0ms loss, 0.3ms postprocess per image\n",
      "Results saved to \u001b[1m/home/maufri/repos/ultralytics/runs/detect/val24\u001b[0m\n"
     ]
    }
   ],
   "source": [
    "res = model.val(data=\"/home/maufri/repos/ultralytics/hslu_test_ts.yaml\",\n",
    "          batch=128,\n",
    "          device=1,\n",
    "          workers=8,\n",
    "          amp=True,\n",
    "          cache=False,\n",
    "          split=\"test\",\n",
    "          iou=0.5,\n",
    "          augment=False,\n",
    "          scale_center=False,\n",
    "          input_scale=0.3,\n",
    "          scale_pos=\"tr\"\n",
    "          );"
   ]
  },
  {
   "cell_type": "code",
   "execution_count": null,
   "metadata": {},
   "outputs": [
    {
     "name": "stdout",
     "output_type": "stream",
     "text": [
      "Ultralytics YOLOv8.2.0 🚀 Python-3.11.6 torch-2.1.0 CUDA:1 (Quadro RTX 6000, 24212MiB)\n"
     ]
    },
    {
     "name": "stderr",
     "output_type": "stream",
     "text": [
      "                 Class     Images  Instances      Box(P          R      mAP50  mAP50-95): 100%|██████████| 20/20 [00:30<00:00,  1.54s/it]\n"
     ]
    },
    {
     "name": "stdout",
     "output_type": "stream",
     "text": [
      "                   all       2559       4260      0.464      0.213      0.348      0.113\n",
      "            pedestrian       2559       4260      0.464      0.213      0.348      0.113\n",
      "Speed: 0.5ms preprocess, 7.1ms inference, 0.0ms loss, 0.4ms postprocess per image\n",
      "Results saved to \u001b[1m/home/maufri/repos/ultralytics/runs/detect/val25\u001b[0m\n"
     ]
    }
   ],
   "source": [
    "res = model.val(data=\"/home/maufri/repos/ultralytics/hslu_test_ts.yaml\",\n",
    "          batch=128,\n",
    "          device=1,\n",
    "          workers=8,\n",
    "          amp=True,\n",
    "          cache=False,\n",
    "          split=\"test\",\n",
    "          iou=0.5,\n",
    "          augment=False,\n",
    "          scale_center=False,\n",
    "          input_scale=0.3,\n",
    "          scale_pos=\"bl\"\n",
    "          );"
   ]
  },
  {
   "cell_type": "code",
   "execution_count": null,
   "metadata": {},
   "outputs": [
    {
     "name": "stdout",
     "output_type": "stream",
     "text": [
      "Ultralytics YOLOv8.2.0 🚀 Python-3.11.6 torch-2.1.0 CUDA:1 (Quadro RTX 6000, 24212MiB)\n"
     ]
    },
    {
     "name": "stderr",
     "output_type": "stream",
     "text": [
      "                 Class     Images  Instances      Box(P          R      mAP50  mAP50-95): 100%|██████████| 20/20 [00:31<00:00,  1.55s/it]\n"
     ]
    },
    {
     "name": "stdout",
     "output_type": "stream",
     "text": [
      "                   all       2559       4260      0.442      0.218      0.332      0.107\n",
      "            pedestrian       2559       4260      0.442      0.218      0.332      0.107\n",
      "Speed: 0.5ms preprocess, 7.0ms inference, 0.0ms loss, 0.4ms postprocess per image\n",
      "Results saved to \u001b[1m/home/maufri/repos/ultralytics/runs/detect/val26\u001b[0m\n"
     ]
    }
   ],
   "source": [
    "res = model.val(data=\"/home/maufri/repos/ultralytics/hslu_test_ts.yaml\",\n",
    "          batch=128,\n",
    "          device=1,\n",
    "          workers=8,\n",
    "          amp=True,\n",
    "          cache=False,\n",
    "          split=\"test\",\n",
    "          iou=0.5,\n",
    "          augment=False,\n",
    "          scale_center=False,\n",
    "          input_scale=0.3,\n",
    "          scale_pos=\"br\"\n",
    "          );"
   ]
  }
 ],
 "metadata": {
  "kernelspec": {
   "display_name": "pt-gpu",
   "language": "python",
   "name": "python3"
  },
  "language_info": {
   "codemirror_mode": {
    "name": "ipython",
    "version": 3
   },
   "file_extension": ".py",
   "mimetype": "text/x-python",
   "name": "python",
   "nbconvert_exporter": "python",
   "pygments_lexer": "ipython3",
   "version": "3.11.6"
  }
 },
 "nbformat": 4,
 "nbformat_minor": 2
}
